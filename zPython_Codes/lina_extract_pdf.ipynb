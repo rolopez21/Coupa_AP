{
 "cells": [
  {
   "cell_type": "code",
   "execution_count": 7,
   "metadata": {},
   "outputs": [],
   "source": [
    "import io\n",
    "import re\n",
    "import pandas as pd\n",
    "from os import walk\n",
    "from pdfminer.converter import TextConverter\n",
    "from pdfminer.pdfinterp import PDFPageInterpreter\n",
    "from pdfminer.pdfinterp import PDFResourceManager\n",
    "from pdfminer.pdfpage import PDFPage"
   ]
  },
  {
   "cell_type": "code",
   "execution_count": 8,
   "metadata": {},
   "outputs": [],
   "source": [
    "#fuction to extract text from PDF file\n",
    "def extract_text_from_pdf (pdf_path):\n",
    "    resource_manager = PDFResourceManager()\n",
    "    fake_file_handle = io.StringIO()\n",
    "    converter = TextConverter(resource_manager, fake_file_handle)\n",
    "    page_interpreter = PDFPageInterpreter(resource_manager, converter)\n",
    "\n",
    "    with open(pdf_path, 'rb') as fh:\n",
    "        for page in PDFPage.get_pages(fh,\n",
    "                                        caching=True,\n",
    "                                        check_extractable=True):\n",
    "            page_interpreter.process_page(page)\n",
    "\n",
    "        text = fake_file_handle.getvalue()\n",
    "\n",
    "        converter.close()\n",
    "        fake_file_handle.close()\n",
    "\n",
    "        if text:\n",
    "            return text"
   ]
  },
  {
   "cell_type": "code",
   "execution_count": 9,
   "metadata": {},
   "outputs": [],
   "source": [
    "def invoice_data (pdf_extract):\n",
    "\n",
    "    #count letter number to ID format\n",
    "    len_amount = len(str(re.findall(r'\\d+', res[31])))\n",
    "    affiliate = str(invoice_dir[0:4])\n",
    "    invoice_description = \"Monthly coverage\"\n",
    "    invoice_directory = invoice_dir\n",
    "\n",
    "    if len_amount== 6:\n",
    "        \n",
    "        #Invoice amount\n",
    "        # res[29]= thousands, res[30]= hundreds, res[31]= decimals \n",
    "        \n",
    "        join_amounts = ''.join(re.findall(r'\\d+', res[29])) + ''.join(re.findall(r'\\d+', res[30])) + \".\" + ''.join      (re.findall(r'\\d+', res[31]))\n",
    "        invoice_amount = join_amounts\n",
    "\n",
    "        #Invoice date\n",
    "        #res[37]= month, res[38]= day, res[39]= year\n",
    "        join_date = ''.join(re.findall(r'\\d+', res[37])) + \"/\" + ''.join(re.findall(r'\\d+', res[38])) + \"/\" + ''.join(re.findall(r'\\d+', res[39]))\n",
    "        invoice_date = join_date\n",
    "\n",
    "        #Invoice number\n",
    "        join_invoice_number = ''.join(re.findall(r'\\d+', res[32])) + \" \" + ''.join(re.findall(r'\\d+', res[33])) + \" \" + ''.join(re.findall(r'\\d+', res[34])) + \" \"          + ''.join(re.findall(r'\\d+', res[35])) + \" \" + ''.join(re.findall(r'\\d+', res[36]))\n",
    "        invoice_number = join_invoice_number\n",
    "        invoice_number\n",
    "\n",
    "    else:\n",
    "        \n",
    "        #Invoice amount\n",
    "        # res[29]= hundreds, res[30]= decimals \n",
    "        join_amounts = ''.join(re.findall(r'\\d+', res[29])) + \".\" + ''.join(re.findall(r'\\d+', res[30]))\n",
    "        invoice_amount = join_amounts\n",
    "\n",
    "        #Invoice date\n",
    "        #res[36]= month, res[37]= day, res[38]= year\n",
    "        join_date = ''.join(re.findall(r'\\d+', res[36])) + \"/\" + ''.join(re.findall(r'\\d+', res[37])) + \"/\" + ''.join(re.findall(r'\\d+', res[38]))\n",
    "        invoice_date = join_date\n",
    "\n",
    "        #Invoice number\n",
    "        join_invoice_number = ''.join(re.findall(r'\\d+', res[31])) + \" \" + ''.join(re.findall(r'\\d+', res[32])) + \" \" + ''.join(re.findall(r'\\d+', res[33])) + \" \"          + ''.join(re.findall(r'\\d+', res[34])) + \" \" + ''.join(re.findall(r'\\d+', res[35]))\n",
    "        invoice_number = join_invoice_number\n",
    "        invoice_number\n",
    "\n",
    "\n",
    "    return [invoice_date, invoice_amount, invoice_number, affiliate, invoice_description, invoice_directory]"
   ]
  },
  {
   "cell_type": "code",
   "execution_count": 10,
   "metadata": {},
   "outputs": [
    {
     "output_type": "execute_result",
     "data": {
      "text/plain": "['ABPI Cigna & Life Disability March 2020.pdf',\n 'CMSI_Cigna___Life_Disability_March_2020.pdf',\n 'DWTG Cigna & Life Disability March 2020.pdf',\n 'MDnA_Cigna___Life_Disability_March_2020.pdf',\n 'MHIA_Cigna___Life_Disability_March_2020.pdf',\n 'MHPS_Cigna___Life_Disability_March_2020.pdf',\n 'MITAC-A_Cigna___Life_Disability_March_2020.pdf',\n 'MNES_Cigna___Life_Disability_March_2020.pdf',\n 'Mohawk_Cigna___Life_Disability_March_2020.pdf',\n 'MSSA_Cigna___Life_Disability_March_2020.pdf',\n 'PWPS_Cigna___Life_Disability_March_2020.pdf']"
     },
     "metadata": {},
     "execution_count": 10
    }
   ],
   "source": [
    "#path of invoices\n",
    "mypath = 'C:/zPython/benefits/invoices'\n",
    "\n",
    "#variable to append invoice name\n",
    "list_invoices = []\n",
    "for (dirpath, dirnames, filenames) in walk(mypath):\n",
    "    list_invoices.extend(filenames)\n",
    "    break\n",
    "\n",
    "list_invoices"
   ]
  },
  {
   "cell_type": "code",
   "execution_count": 11,
   "metadata": {},
   "outputs": [],
   "source": [
    "#loop\n",
    "invoice_information = []\n",
    "\n",
    "for x in list_invoices:\n",
    "    \n",
    "    invoice_dir = x\n",
    "    invoice_full_dir = mypath + \"/\" + invoice_dir\n",
    "    invoice_text = extract_text_from_pdf(invoice_full_dir)\n",
    "\n",
    "    # to extract words from string to list \n",
    "    res = re.findall(r'\\w+', invoice_text)\n",
    "\n",
    "    #call fuction to extract invoice information 'date', 'amount', 'invoice number'\n",
    "    newInfo = invoice_data(res)\n",
    "    invoice_information.append(newInfo)"
   ]
  },
  {
   "cell_type": "code",
   "execution_count": 12,
   "metadata": {},
   "outputs": [
    {
     "output_type": "execute_result",
     "data": {
      "text/plain": "   invoice_date     Amount                     invoice_num Affiliate  \\\n0    03/05/2020    1911.40  0813608934 0002 030120 20065 1      ABPI   \n1    03/01/2020    9751.72  0813608934 0003 030120 20061 4      CMSI   \n2    03/01/2020    8249.16  0813608934 0008 030120 20061 6      DWTG   \n3    03/01/2020   44063.93  0813608934 0023 030120 20061 0      MDnA   \n4    03/05/2020   16068.08  0813608934 0001 030120 20065 4      MHIA   \n5    03/01/2020  115526.38  0813608934 0021 030120 20061 7      MHPS   \n6    03/01/2020   31633.97  0813608934 0007 030120 20061 0      MITA   \n7    03/01/2020     337.99  0813608934 0004 030120 20061 1      MNES   \n8    03/01/2020    1061.25  0813608934 0024 030120 20061 6      Moha   \n9    03/01/2020   14013.49  0813608934 0000 030120 20061 5      MSSA   \n10   03/01/2020   13783.97  0813608934 0022 030120 20061 3      PWPS   \n\n         Description                                      attachment  \n0   Monthly coverage     ABPI Cigna & Life Disability March 2020.pdf  \n1   Monthly coverage     CMSI_Cigna___Life_Disability_March_2020.pdf  \n2   Monthly coverage     DWTG Cigna & Life Disability March 2020.pdf  \n3   Monthly coverage     MDnA_Cigna___Life_Disability_March_2020.pdf  \n4   Monthly coverage     MHIA_Cigna___Life_Disability_March_2020.pdf  \n5   Monthly coverage     MHPS_Cigna___Life_Disability_March_2020.pdf  \n6   Monthly coverage  MITAC-A_Cigna___Life_Disability_March_2020.pdf  \n7   Monthly coverage     MNES_Cigna___Life_Disability_March_2020.pdf  \n8   Monthly coverage   Mohawk_Cigna___Life_Disability_March_2020.pdf  \n9   Monthly coverage     MSSA_Cigna___Life_Disability_March_2020.pdf  \n10  Monthly coverage     PWPS_Cigna___Life_Disability_March_2020.pdf  ",
      "text/html": "<div>\n<style scoped>\n    .dataframe tbody tr th:only-of-type {\n        vertical-align: middle;\n    }\n\n    .dataframe tbody tr th {\n        vertical-align: top;\n    }\n\n    .dataframe thead th {\n        text-align: right;\n    }\n</style>\n<table border=\"1\" class=\"dataframe\">\n  <thead>\n    <tr style=\"text-align: right;\">\n      <th></th>\n      <th>invoice_date</th>\n      <th>Amount</th>\n      <th>invoice_num</th>\n      <th>Affiliate</th>\n      <th>Description</th>\n      <th>attachment</th>\n    </tr>\n  </thead>\n  <tbody>\n    <tr>\n      <td>0</td>\n      <td>03/05/2020</td>\n      <td>1911.40</td>\n      <td>0813608934 0002 030120 20065 1</td>\n      <td>ABPI</td>\n      <td>Monthly coverage</td>\n      <td>ABPI Cigna &amp; Life Disability March 2020.pdf</td>\n    </tr>\n    <tr>\n      <td>1</td>\n      <td>03/01/2020</td>\n      <td>9751.72</td>\n      <td>0813608934 0003 030120 20061 4</td>\n      <td>CMSI</td>\n      <td>Monthly coverage</td>\n      <td>CMSI_Cigna___Life_Disability_March_2020.pdf</td>\n    </tr>\n    <tr>\n      <td>2</td>\n      <td>03/01/2020</td>\n      <td>8249.16</td>\n      <td>0813608934 0008 030120 20061 6</td>\n      <td>DWTG</td>\n      <td>Monthly coverage</td>\n      <td>DWTG Cigna &amp; Life Disability March 2020.pdf</td>\n    </tr>\n    <tr>\n      <td>3</td>\n      <td>03/01/2020</td>\n      <td>44063.93</td>\n      <td>0813608934 0023 030120 20061 0</td>\n      <td>MDnA</td>\n      <td>Monthly coverage</td>\n      <td>MDnA_Cigna___Life_Disability_March_2020.pdf</td>\n    </tr>\n    <tr>\n      <td>4</td>\n      <td>03/05/2020</td>\n      <td>16068.08</td>\n      <td>0813608934 0001 030120 20065 4</td>\n      <td>MHIA</td>\n      <td>Monthly coverage</td>\n      <td>MHIA_Cigna___Life_Disability_March_2020.pdf</td>\n    </tr>\n    <tr>\n      <td>5</td>\n      <td>03/01/2020</td>\n      <td>115526.38</td>\n      <td>0813608934 0021 030120 20061 7</td>\n      <td>MHPS</td>\n      <td>Monthly coverage</td>\n      <td>MHPS_Cigna___Life_Disability_March_2020.pdf</td>\n    </tr>\n    <tr>\n      <td>6</td>\n      <td>03/01/2020</td>\n      <td>31633.97</td>\n      <td>0813608934 0007 030120 20061 0</td>\n      <td>MITA</td>\n      <td>Monthly coverage</td>\n      <td>MITAC-A_Cigna___Life_Disability_March_2020.pdf</td>\n    </tr>\n    <tr>\n      <td>7</td>\n      <td>03/01/2020</td>\n      <td>337.99</td>\n      <td>0813608934 0004 030120 20061 1</td>\n      <td>MNES</td>\n      <td>Monthly coverage</td>\n      <td>MNES_Cigna___Life_Disability_March_2020.pdf</td>\n    </tr>\n    <tr>\n      <td>8</td>\n      <td>03/01/2020</td>\n      <td>1061.25</td>\n      <td>0813608934 0024 030120 20061 6</td>\n      <td>Moha</td>\n      <td>Monthly coverage</td>\n      <td>Mohawk_Cigna___Life_Disability_March_2020.pdf</td>\n    </tr>\n    <tr>\n      <td>9</td>\n      <td>03/01/2020</td>\n      <td>14013.49</td>\n      <td>0813608934 0000 030120 20061 5</td>\n      <td>MSSA</td>\n      <td>Monthly coverage</td>\n      <td>MSSA_Cigna___Life_Disability_March_2020.pdf</td>\n    </tr>\n    <tr>\n      <td>10</td>\n      <td>03/01/2020</td>\n      <td>13783.97</td>\n      <td>0813608934 0022 030120 20061 3</td>\n      <td>PWPS</td>\n      <td>Monthly coverage</td>\n      <td>PWPS_Cigna___Life_Disability_March_2020.pdf</td>\n    </tr>\n  </tbody>\n</table>\n</div>"
     },
     "metadata": {},
     "execution_count": 12
    }
   ],
   "source": [
    "df = pd.DataFrame(invoice_information)\n",
    "df.rename( columns={0:'invoice_date',1:'Amount',2:'invoice_num',3:'Affiliate',4:'Description',5:'attachment'}, inplace=True )\n",
    "df"
   ]
  },
  {
   "cell_type": "code",
   "execution_count": 14,
   "metadata": {},
   "outputs": [],
   "source": [
    "export_path = 'C:/zPython/benefits/clean_data/invoices_information.csv'\n",
    "df.to_csv(export_path, index=False)"
   ]
  }
 ],
 "metadata": {
  "kernelspec": {
   "display_name": "Python 3",
   "language": "python",
   "name": "python3"
  },
  "language_info": {
   "codemirror_mode": {
    "name": "ipython",
    "version": 3
   },
   "file_extension": ".py",
   "mimetype": "text/x-python",
   "name": "python",
   "nbconvert_exporter": "python",
   "pygments_lexer": "ipython3",
   "version": "3.7.4-final"
  }
 },
 "nbformat": 4,
 "nbformat_minor": 4
}