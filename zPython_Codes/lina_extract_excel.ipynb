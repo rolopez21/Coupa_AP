{
 "cells": [
  {
   "cell_type": "code",
   "execution_count": 16,
   "metadata": {},
   "outputs": [],
   "source": [
    "import io\n",
    "import re\n",
    "import pandas as pd\n",
    "from os import walk\n",
    "from pdfminer.converter import TextConverter\n",
    "from pdfminer.pdfinterp import PDFPageInterpreter\n",
    "from pdfminer.pdfinterp import PDFResourceManager\n",
    "from pdfminer.pdfpage import PDFPage"
   ]
  },
  {
   "cell_type": "code",
   "execution_count": 17,
   "metadata": {},
   "outputs": [
    {
     "output_type": "execute_result",
     "data": {
      "text/plain": "['ABPI Cigna & Life Disability March 2020.xlsx',\n 'CMSI Cigna & Life Disability March 2020.xlsx',\n 'DWTG Cigna & Life Disability March 2020.xlsx',\n 'MDnA Cigna & Life Disability March 2020.xlsx',\n 'MHIA Cigna & Life Disability March 2020.xlsx',\n 'MHPS Cigna & Life Disability March 2020.xlsx',\n 'MITAC-A Cigna & Life Disability March 2020.xlsx',\n 'MNES Cigna & Life Disability March 2020.xlsx',\n 'Mohawk Cigna & Life Disability March 2020.xlsx',\n 'MSSA Cigna & Life Disability March 2020.xlsx',\n 'PWPS Cigna & Life Disability March 2020.xlsx']"
     },
     "metadata": {},
     "execution_count": 17
    }
   ],
   "source": [
    "#path of invoices\n",
    "mypath = 'C:/zPython/benefits/allocation'\n",
    "\n",
    "#variable to append invoice name\n",
    "list_allocation = []\n",
    "for (dirpath, dirnames, filenames) in walk(mypath):\n",
    "    list_allocation.extend(filenames)\n",
    "    break\n",
    "\n",
    "list_allocation"
   ]
  },
  {
   "cell_type": "code",
   "execution_count": 18,
   "metadata": {},
   "outputs": [],
   "source": [
    "#loop\n",
    "invoice_allocation = pd.DataFrame()\n",
    "\n",
    "for x in list_allocation:\n",
    "    \n",
    "    #file name\n",
    "    invoice_dir = x\n",
    "    #full directory + file name\n",
    "    invoice_full_dir = mypath + \"/\" + invoice_dir\n",
    "\n",
    "    #read excel file information from titles to last row 11:-1 and last column [0,-1]\n",
    "    df_invoice_alloc = pd.read_excel(invoice_full_dir).iloc[11:-1,[0,-1]]\n",
    "    #affiliate name\n",
    "    affiliate = str(invoice_dir[0:4])\n",
    "    #name columns\n",
    "    df_invoice_alloc.rename(columns={ df_invoice_alloc.columns[0]: \"Cost_Center\" }, inplace = True)\n",
    "    df_invoice_alloc.rename(columns={ df_invoice_alloc.columns[1]: \"Amount\" }, inplace = True)\n",
    "    #convert column values to numeric\n",
    "    df_invoice_alloc[\"Amount\"] = pd.to_numeric(df_invoice_alloc[\"Amount\"])\n",
    "    #round values\n",
    "    df_invoice_alloc = df_invoice_alloc.round({\"Amount\" : 2})\n",
    "    #add column with percent\n",
    "    df_invoice_alloc['percent'] = df_invoice_alloc[\"Amount\"]/df_invoice_alloc[\"Amount\"].sum()\n",
    "    df_invoice_alloc['Affiliate'] = affiliate\n",
    "\n",
    "    df_invoice_alloc.set_index('Cost_Center', inplace=True)\n",
    "    #print(df_invoice_alloc)\n",
    "\n",
    "    newInfo = df_invoice_alloc\n",
    "    invoice_allocation = invoice_allocation.append(newInfo)"
   ]
  },
  {
   "cell_type": "code",
   "execution_count": 19,
   "metadata": {},
   "outputs": [],
   "source": [
    "df_CostCenter = pd.read_csv('C:/zPython/benefits/clean_data/LINA_Mapping.csv')\n",
    "df_affiliate = pd.read_csv('C:/zPython/benefits/clean_data/LINA_affiliate.csv')\n",
    "df_new = invoice_allocation.join(df_CostCenter.set_index('Cost_Center'), on='Cost_Center')\n",
    "df_new = df_new.join(df_affiliate.set_index('Affiliate'), on='Affiliate')\n",
    "\n",
    "indexNames = df_new[ df_new['Allocate'] == 'No' ].index\n",
    " \n",
    "# Delete these row indexes from dataFrame\n",
    "df_new.drop(indexNames , inplace=True)"
   ]
  },
  {
   "cell_type": "code",
   "execution_count": 20,
   "metadata": {},
   "outputs": [],
   "source": [
    "export_path = 'C:/zPython/benefits/clean_data/invoices_allocation.csv'\n",
    "df_new.to_csv(export_path, index=False)"
   ]
  },
  {
   "cell_type": "code",
   "execution_count": null,
   "metadata": {},
   "outputs": [],
   "source": []
  }
 ],
 "metadata": {
  "kernelspec": {
   "display_name": "Python 3",
   "language": "python",
   "name": "python3"
  },
  "language_info": {
   "codemirror_mode": {
    "name": "ipython",
    "version": 3
   },
   "file_extension": ".py",
   "mimetype": "text/x-python",
   "name": "python",
   "nbconvert_exporter": "python",
   "pygments_lexer": "ipython3",
   "version": "3.7.4-final"
  }
 },
 "nbformat": 4,
 "nbformat_minor": 4
}